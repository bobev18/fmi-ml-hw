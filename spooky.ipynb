{
 "cells": [
  {
   "cell_type": "markdown",
   "metadata": {},
   "source": [
    "репродукция на показаното в лекцията:"
   ]
  },
  {
   "cell_type": "code",
   "execution_count": 1,
   "metadata": {
    "collapsed": false
   },
   "outputs": [],
   "source": [
    "import numpy as np\n",
    "import matplotlib.pyplot as plt\n",
    "import pandas as pd\n",
    "import mglearn\n",
    "from IPython.display import display\n",
    "\n",
    "#%matplotlib notebook\n",
    "\n",
    "\n",
    "import sklearn\n",
    "import matplotlib as mpl\n",
    "import seaborn as sns\n",
    "\n",
    "import re\n",
    "\n",
    "%matplotlib inline\n",
    "\n",
    "pd.options.display.max_rows = 10"
   ]
  },
  {
   "cell_type": "code",
   "execution_count": 2,
   "metadata": {
    "collapsed": false
   },
   "outputs": [
    {
     "name": "stdout",
     "output_type": "stream",
     "text": [
      "(19579, 2) (8392, 1) (8392, 3)\n",
      "{'author'}\n"
     ]
    }
   ],
   "source": [
    "# Dataset\n",
    "\n",
    "train = pd.read_csv(\"data/spooky/train.zip\", index_col=['id'])\n",
    "test = pd.read_csv(\"data/spooky/test.zip\", index_col=['id'])\n",
    "sample_submission = pd.read_csv(\"data/spooky/sample_submission.zip\", index_col=['id'])\n",
    "\n",
    "print(train.shape, test.shape, sample_submission.shape)\n",
    "print(set(train.columns) - set(test.columns))"
   ]
  },
  {
   "cell_type": "code",
   "execution_count": 3,
   "metadata": {
    "collapsed": false
   },
   "outputs": [
    {
     "data": {
      "text/html": [
       "<div>\n",
       "<style scoped>\n",
       "    .dataframe tbody tr th:only-of-type {\n",
       "        vertical-align: middle;\n",
       "    }\n",
       "\n",
       "    .dataframe tbody tr th {\n",
       "        vertical-align: top;\n",
       "    }\n",
       "\n",
       "    .dataframe thead th {\n",
       "        text-align: right;\n",
       "    }\n",
       "</style>\n",
       "<table border=\"1\" class=\"dataframe\">\n",
       "  <thead>\n",
       "    <tr style=\"text-align: right;\">\n",
       "      <th></th>\n",
       "      <th>text</th>\n",
       "      <th>author</th>\n",
       "    </tr>\n",
       "    <tr>\n",
       "      <th>id</th>\n",
       "      <th></th>\n",
       "      <th></th>\n",
       "    </tr>\n",
       "  </thead>\n",
       "  <tbody>\n",
       "    <tr>\n",
       "      <th>id26305</th>\n",
       "      <td>This process, however, afforded me no means of...</td>\n",
       "      <td>EAP</td>\n",
       "    </tr>\n",
       "    <tr>\n",
       "      <th>id17569</th>\n",
       "      <td>It never once occurred to me that the fumbling...</td>\n",
       "      <td>HPL</td>\n",
       "    </tr>\n",
       "    <tr>\n",
       "      <th>id11008</th>\n",
       "      <td>In his left hand was a gold snuff box, from wh...</td>\n",
       "      <td>EAP</td>\n",
       "    </tr>\n",
       "    <tr>\n",
       "      <th>id27763</th>\n",
       "      <td>How lovely is spring As we looked from Windsor...</td>\n",
       "      <td>MWS</td>\n",
       "    </tr>\n",
       "    <tr>\n",
       "      <th>id12958</th>\n",
       "      <td>Finding nothing else, not even gold, the Super...</td>\n",
       "      <td>HPL</td>\n",
       "    </tr>\n",
       "  </tbody>\n",
       "</table>\n",
       "</div>"
      ],
      "text/plain": [
       "                                                      text author\n",
       "id                                                               \n",
       "id26305  This process, however, afforded me no means of...    EAP\n",
       "id17569  It never once occurred to me that the fumbling...    HPL\n",
       "id11008  In his left hand was a gold snuff box, from wh...    EAP\n",
       "id27763  How lovely is spring As we looked from Windsor...    MWS\n",
       "id12958  Finding nothing else, not even gold, the Super...    HPL"
      ]
     },
     "execution_count": 3,
     "metadata": {},
     "output_type": "execute_result"
    }
   ],
   "source": [
    "train.head(5)"
   ]
  },
  {
   "cell_type": "code",
   "execution_count": 4,
   "metadata": {
    "collapsed": true
   },
   "outputs": [],
   "source": [
    "from sklearn.pipeline import Pipeline\n",
    "from sklearn.linear_model import LogisticRegression\n",
    "from sklearn.feature_extraction.text import CountVectorizer\n",
    "from sklearn.model_selection import cross_val_score"
   ]
  },
  {
   "cell_type": "code",
   "execution_count": 5,
   "metadata": {
    "collapsed": false
   },
   "outputs": [
    {
     "name": "stdout",
     "output_type": "stream",
     "text": [
      "       score: [ 0.81449142  0.81673307  0.81348659]\n",
      "neg_log_loss: [-0.47678328 -0.47558895 -0.47131481]\n"
     ]
    }
   ],
   "source": [
    "pipeline = Pipeline([\n",
    "    ('features', CountVectorizer()),\n",
    "    ('clf', LogisticRegression())\n",
    "])\n",
    "\n",
    "print('       score:', cross_val_score(pipeline, train.text, train.author, cv=3, n_jobs=3))\n",
    "print('neg_log_loss:', cross_val_score(pipeline, train.text, train.author, cv=3, n_jobs=3, \n",
    "                      scoring='neg_log_loss'))"
   ]
  },
  {
   "cell_type": "markdown",
   "metadata": {},
   "source": [
    "До тук имаме базов модел и оценка; Pipeline остава много неща скрити;"
   ]
  },
  {
   "cell_type": "markdown",
   "metadata": {},
   "source": [
    "Ползването на cross_val_score изглежда зачиства резултатите (fit-a) от scope-а на pipeline:"
   ]
  },
  {
   "cell_type": "code",
   "execution_count": 6,
   "metadata": {
    "collapsed": false
   },
   "outputs": [
    {
     "name": "stdout",
     "output_type": "stream",
     "text": [
      "<class 'sklearn.feature_extraction.text.CountVectorizer'>\n",
      "'CountVectorizer' object has no attribute 'vocabulary_'\n"
     ]
    }
   ],
   "source": [
    "from sklearn.exceptions import NotFittedError\n",
    "\n",
    "count_vectorizer = pipeline.steps[0][1]\n",
    "print(type(count_vectorizer))\n",
    "try:\n",
    "    count_vectorizer.vocabulary_\n",
    "except (AttributeError, NotFittedError) as e:\n",
    "    print(e)"
   ]
  },
  {
   "cell_type": "markdown",
   "metadata": {},
   "source": [
    "За да имаме поглед върху междинния формат на данните, ще fit-нем на ново count_vectorizer-а."
   ]
  },
  {
   "cell_type": "code",
   "execution_count": 7,
   "metadata": {
    "collapsed": true
   },
   "outputs": [],
   "source": [
    "pipeline.fit(train.text, train.author)\n",
    "count_vectorizer = pipeline.steps[0][1]\n",
    "# count_vectorizer._validate_vocabulary()"
   ]
  },
  {
   "cell_type": "code",
   "execution_count": 8,
   "metadata": {
    "collapsed": false
   },
   "outputs": [
    {
     "data": {
      "text/plain": [
       "[('this', 22175),\n",
       " ('process', 17139),\n",
       " ('however', 10784),\n",
       " ('afforded', 455),\n",
       " ('me', 13678),\n",
       " ('no', 14817),\n",
       " ('means', 13696),\n",
       " ('of', 15145),\n",
       " ('ascertaining', 1300),\n",
       " ('the', 22085)]"
      ]
     },
     "execution_count": 8,
     "metadata": {},
     "output_type": "execute_result"
    }
   ],
   "source": [
    "list(count_vectorizer.vocabulary_.items())[:10]"
   ]
  },
  {
   "cell_type": "code",
   "execution_count": 9,
   "metadata": {
    "collapsed": false
   },
   "outputs": [
    {
     "name": "stdout",
     "output_type": "stream",
     "text": [
      "decision func:\n",
      " [[  6.88005027  -5.53085487  -8.55660704]\n",
      " [ -0.30598266  -0.0355784   -3.06925049]\n",
      " [  1.94575346  -1.73436774  -6.65837008]\n",
      " [ -6.24311246  -7.71766753   8.03335118]\n",
      " [ -1.08496043   0.50364988  -2.79939235]\n",
      " [ -4.47520353 -12.52733853   6.61040277]\n",
      " [  1.87293228  -1.83363116  -4.39112308]\n",
      " [  1.28128144  -2.76106269  -1.87615553]\n",
      " [  1.71256761  -4.20021945  -6.89789641]\n",
      " [ -1.54097308  -3.39287914   1.20978569]]\n",
      "predict_proba:\n",
      " [[ 0.996  0.004  0.   ]\n",
      " [ 0.442  0.512  0.046]\n",
      " [ 0.853  0.146  0.001]\n",
      " [ 0.002  0.     0.998]\n",
      " [ 0.271  0.668  0.061]\n",
      " [ 0.011  0.     0.989]\n",
      " [ 0.852  0.136  0.012]\n",
      " [ 0.803  0.061  0.136]\n",
      " [ 0.982  0.017  0.001]\n",
      " [ 0.18   0.033  0.787]]\n",
      "predict : ['EAP' 'HPL' 'EAP' 'MWS' 'HPL' 'MWS' 'EAP' 'EAP' 'EAP' 'MWS']\n",
      "observed: ['EAP' 'HPL' 'EAP' 'MWS' 'HPL' 'MWS' 'EAP' 'EAP' 'EAP' 'MWS']\n"
     ]
    }
   ],
   "source": [
    "pd.set_option('display.float_format', '{:.2f}'.format)\n",
    "slice_ = train.text[:10]\n",
    "print('decision func:\\n', pipeline.decision_function(slice_))\n",
    "print('predict_proba:\\n', np.round(pipeline.predict_proba(slice_),3))\n",
    "print('predict :', pipeline.predict(slice_))\n",
    "print('observed:', train.author.values[:10])"
   ]
  },
  {
   "cell_type": "code",
   "execution_count": 10,
   "metadata": {
    "collapsed": false
   },
   "outputs": [],
   "source": [
    "import itertools\n",
    "from sklearn.metrics import confusion_matrix, log_loss, accuracy_score\n",
    "\n",
    "def plot_confusion_matrix(y_true, y_pred, classes,\n",
    "                          normalize=False,\n",
    "                          title='Confusion matrix',\n",
    "                          cmap=plt.cm.Blues,\n",
    "                          figsize=(9, 7)):\n",
    "    matrix = confusion_matrix(y_true, y_pred)\n",
    "\n",
    "    if normalize:\n",
    "        matrix = matrix.astype('float') / matrix.sum(axis=1)[:, np.newaxis]\n",
    "\n",
    "    plt.figure(figsize=figsize)\n",
    "    plt.imshow(matrix, interpolation='nearest', cmap=cmap)\n",
    "    plt.title(title)\n",
    "    plt.colorbar()\n",
    "\n",
    "    tick_marks = np.arange(len(classes))\n",
    "    plt.xticks(tick_marks, classes, rotation=45)\n",
    "    plt.yticks(tick_marks, classes)\n",
    "\n",
    "    fmt = '.2f' if normalize else 'd'\n",
    "    thresh = matrix.max() / 2.\n",
    "    for i, j in itertools.product(range(matrix.shape[0]), range(matrix.shape[1])):\n",
    "        plt.text(j, i, format(matrix[i, j], fmt),\n",
    "                 horizontalalignment=\"center\",\n",
    "                 size=int((figsize[0] / 10) * 38),\n",
    "                 color=\"white\" if matrix[i, j] > thresh else \"black\")\n",
    "\n",
    "    plt.tight_layout()\n",
    "    plt.ylabel('True label')\n",
    "    plt.xlabel('Predicted label')"
   ]
  },
  {
   "cell_type": "markdown",
   "metadata": {},
   "source": [
    "cross_val_predict != cross_val_score"
   ]
  },
  {
   "cell_type": "code",
   "execution_count": 11,
   "metadata": {
    "collapsed": false
   },
   "outputs": [
    {
     "data": {
      "text/plain": [
       "array(['EAP', 'EAP', 'EAP', ..., 'EAP', 'EAP', 'HPL'], dtype=object)"
      ]
     },
     "execution_count": 11,
     "metadata": {},
     "output_type": "execute_result"
    }
   ],
   "source": [
    "from sklearn.model_selection import cross_val_predict\n",
    "\n",
    "prediction = cross_val_predict(pipeline, train.text, train.author, cv=3, n_jobs=3)\n",
    "prediction"
   ]
  },
  {
   "cell_type": "markdown",
   "metadata": {},
   "source": [
    "Тази графика не дава информация за \"увереността\" на предположенията."
   ]
  },
  {
   "cell_type": "code",
   "execution_count": 12,
   "metadata": {
    "collapsed": false
   },
   "outputs": [
    {
     "data": {
      "image/png": "[encoded data removed]",
      "text/plain": [
       "<matplotlib.figure.Figure at 0x7f63c728d240>"
      ]
     },
     "metadata": {},
     "output_type": "display_data"
    }
   ],
   "source": [
    "authors = pipeline.classes_\n",
    "plot_confusion_matrix(train.author, prediction, classes=authors)"
   ]
  },
  {
   "cell_type": "markdown",
   "metadata": {},
   "source": [
    "Следващите редове са изследване на опцията да представям log_loss в plot_confusion_matrix"
   ]
  },
  {
   "cell_type": "code",
   "execution_count": 13,
   "metadata": {
    "collapsed": false
   },
   "outputs": [
    {
     "data": {
      "text/plain": [
       "array(['EAP', 'HPL', 'MWS'], dtype=object)"
      ]
     },
     "execution_count": 13,
     "metadata": {},
     "output_type": "execute_result"
    }
   ],
   "source": [
    "authors"
   ]
  },
  {
   "cell_type": "code",
   "execution_count": 14,
   "metadata": {
    "collapsed": false
   },
   "outputs": [
    {
     "data": {
      "text/plain": [
       "'This process, however, afforded me no means of ascertaining the dimensions of my dungeon; as I might make its circuit, and return to the point whence I set out, without being aware of the fact; so perfectly uniform seemed the wall.'"
      ]
     },
     "execution_count": 14,
     "metadata": {},
     "output_type": "execute_result"
    }
   ],
   "source": [
    "single_ = train.text.iloc[0]\n",
    "single_"
   ]
  },
  {
   "cell_type": "code",
   "execution_count": 15,
   "metadata": {
    "collapsed": false
   },
   "outputs": [
    {
     "data": {
      "text/plain": [
       "array([[  9.95873648e-01,   3.93471446e-03,   1.91637189e-04]])"
      ]
     },
     "execution_count": 15,
     "metadata": {},
     "output_type": "execute_result"
    }
   ],
   "source": [
    "pipeline.predict_proba([single_])"
   ]
  },
  {
   "cell_type": "code",
   "execution_count": 16,
   "metadata": {
    "collapsed": false
   },
   "outputs": [
    {
     "data": {
      "text/plain": [
       "[[0.99587364835336278], [0.0039347144572666644], [0.00019163718937051345]]"
      ]
     },
     "execution_count": 16,
     "metadata": {},
     "output_type": "execute_result"
    }
   ],
   "source": [
    "single_probas = [ [z] for z in pipeline.predict_proba([single_])[0]]\n",
    "single_probas"
   ]
  },
  {
   "cell_type": "code",
   "execution_count": 17,
   "metadata": {
    "collapsed": false
   },
   "outputs": [
    {
     "data": {
      "text/plain": [
       "['EAP']"
      ]
     },
     "execution_count": 17,
     "metadata": {},
     "output_type": "execute_result"
    }
   ],
   "source": [
    "[train.author.iloc[0]]"
   ]
  },
  {
   "cell_type": "code",
   "execution_count": 18,
   "metadata": {
    "collapsed": false
   },
   "outputs": [
    {
     "data": {
      "text/plain": [
       "0.96508088175787132"
      ]
     },
     "execution_count": 18,
     "metadata": {},
     "output_type": "execute_result"
    }
   ],
   "source": [
    "log_loss([1], [[0.5, 0.3333333, 0.0416666]], labels=[1, 0, 3])"
   ]
  },
  {
   "cell_type": "code",
   "execution_count": 19,
   "metadata": {
    "collapsed": false
   },
   "outputs": [
    {
     "data": {
      "text/plain": [
       "0.004134888527801966"
      ]
     },
     "execution_count": 19,
     "metadata": {},
     "output_type": "execute_result"
    }
   ],
   "source": [
    "log_loss(y_true=[['EAP']], y_pred=[[0.99587364835336278,\n",
    "                                 0.0039347144572666644,\n",
    "                                 0.00019163718937051345]],\n",
    "         labels=['EAP', 'HPL', 'MWS'])"
   ]
  },
  {
   "cell_type": "code",
   "execution_count": 20,
   "metadata": {
    "collapsed": false
   },
   "outputs": [
    {
     "data": {
      "text/plain": [
       "0.004134888527801966"
      ]
     },
     "execution_count": 20,
     "metadata": {},
     "output_type": "execute_result"
    }
   ],
   "source": [
    "log_loss(y_true=[['EAP']], y_pred=pipeline.predict_proba([single_]),\n",
    "         labels=authors)\n",
    "#          labels=['EAP', 'HPL', 'MWS'])"
   ]
  },
  {
   "cell_type": "code",
   "execution_count": 21,
   "metadata": {
    "collapsed": false
   },
   "outputs": [
    {
     "name": "stdout",
     "output_type": "stream",
     "text": [
      "['EAP', 'HPL', 'MWS']\n",
      "19579\n",
      "[['EAP', 'HPL', 'EAP', 'MWS', 'HPL', 'MWS', 'EAP', 'EAP', 'EAP', 'MWS']]\n"
     ]
    },
    {
     "data": {
      "text/plain": [
       "[[0.9958736483533628, 0.003934714457266664, 0.00019163718937051345],\n",
       " [0.441952460968289, 0.5117847030623977, 0.04626283596931342],\n",
       " [0.8525653352362134, 0.14618590817393715, 0.001248756589849516],\n",
       " [0.0019360361367847896, 0.000443784897841265, 0.9976201789653739],\n",
       " [0.27063549295615785, 0.6679045517400033, 0.0614599553038388],\n",
       " [0.011149094075245636, 3.590525052634117e-06, 0.9888473153997018],\n",
       " [0.8524431480124934, 0.13552421197831618, 0.012032640009190439],\n",
       " [0.8027660284042524, 0.06099190805150025, 0.1362420635442474],\n",
       " [0.9817141786573361, 0.0171167035418542, 0.0011691178008096696],\n",
       " [0.18014563931187963, 0.03321040363574766, 0.7866439570523727]]"
      ]
     },
     "execution_count": 21,
     "metadata": {},
     "output_type": "execute_result"
    }
   ],
   "source": [
    "print(authors.tolist())\n",
    "print(len(pipeline.predict_proba(train.text)))\n",
    "print([list(train.author[:10])])\n",
    "pipeline.predict_proba(train.text[:10]).tolist()"
   ]
  },
  {
   "cell_type": "code",
   "execution_count": 22,
   "metadata": {
    "collapsed": false
   },
   "outputs": [
    {
     "data": {
      "text/plain": [
       "0.18884749191598543"
      ]
     },
     "execution_count": 22,
     "metadata": {},
     "output_type": "execute_result"
    }
   ],
   "source": [
    "log_loss(y_true=list(train.author[:10]),\n",
    "         y_pred=pipeline.predict_proba(train.text[:10]).tolist(),\n",
    "         labels=authors.tolist())"
   ]
  },
  {
   "cell_type": "code",
   "execution_count": 23,
   "metadata": {
    "collapsed": false
   },
   "outputs": [
    {
     "data": {
      "text/plain": [
       "0.20227348134133219"
      ]
     },
     "execution_count": 23,
     "metadata": {},
     "output_type": "execute_result"
    }
   ],
   "source": [
    "log_loss(y_true=list(train.author),\n",
    "         y_pred=pipeline.predict_proba(train.text).tolist(),\n",
    "         labels=authors.tolist())"
   ]
  },
  {
   "cell_type": "markdown",
   "metadata": {},
   "source": [
    "import relog_loss няма специфична стойност за всяка клетка от confusion_matrix, затова оставям версията от лекцията с `normalize=True`"
   ]
  },
  {
   "cell_type": "code",
   "execution_count": 24,
   "metadata": {
    "collapsed": false
   },
   "outputs": [
    {
     "data": {
      "image/png": "[encoded data removed]",
      "text/plain": [
       "<matplotlib.figure.Figure at 0x7f63c7297908>"
      ]
     },
     "metadata": {},
     "output_type": "display_data"
    }
   ],
   "source": [
    "plot_confusion_matrix(train.author, prediction, classes=authors, normalize=True)"
   ]
  },
  {
   "cell_type": "markdown",
   "metadata": {},
   "source": [
    "add som new features"
   ]
  },
  {
   "cell_type": "code",
   "execution_count": 25,
   "metadata": {
    "collapsed": false
   },
   "outputs": [
    {
     "data": {
      "text/html": [
       "<div>\n",
       "<style scoped>\n",
       "    .dataframe tbody tr th:only-of-type {\n",
       "        vertical-align: middle;\n",
       "    }\n",
       "\n",
       "    .dataframe tbody tr th {\n",
       "        vertical-align: top;\n",
       "    }\n",
       "\n",
       "    .dataframe thead th {\n",
       "        text-align: right;\n",
       "    }\n",
       "</style>\n",
       "<table border=\"1\" class=\"dataframe\">\n",
       "  <thead>\n",
       "    <tr style=\"text-align: right;\">\n",
       "      <th></th>\n",
       "      <th>text</th>\n",
       "      <th>author</th>\n",
       "      <th>question</th>\n",
       "      <th>semicol</th>\n",
       "    </tr>\n",
       "    <tr>\n",
       "      <th>id</th>\n",
       "      <th></th>\n",
       "      <th></th>\n",
       "      <th></th>\n",
       "      <th></th>\n",
       "    </tr>\n",
       "  </thead>\n",
       "  <tbody>\n",
       "    <tr>\n",
       "      <th>id26305</th>\n",
       "      <td>This process, however, afforded me no means of...</td>\n",
       "      <td>EAP</td>\n",
       "      <td>0</td>\n",
       "      <td>2</td>\n",
       "    </tr>\n",
       "    <tr>\n",
       "      <th>id17569</th>\n",
       "      <td>It never once occurred to me that the fumbling...</td>\n",
       "      <td>HPL</td>\n",
       "      <td>0</td>\n",
       "      <td>0</td>\n",
       "    </tr>\n",
       "    <tr>\n",
       "      <th>id11008</th>\n",
       "      <td>In his left hand was a gold snuff box, from wh...</td>\n",
       "      <td>EAP</td>\n",
       "      <td>0</td>\n",
       "      <td>0</td>\n",
       "    </tr>\n",
       "    <tr>\n",
       "      <th>id27763</th>\n",
       "      <td>How lovely is spring As we looked from Windsor...</td>\n",
       "      <td>MWS</td>\n",
       "      <td>0</td>\n",
       "      <td>0</td>\n",
       "    </tr>\n",
       "    <tr>\n",
       "      <th>id12958</th>\n",
       "      <td>Finding nothing else, not even gold, the Super...</td>\n",
       "      <td>HPL</td>\n",
       "      <td>0</td>\n",
       "      <td>1</td>\n",
       "    </tr>\n",
       "    <tr>\n",
       "      <th>id22965</th>\n",
       "      <td>A youth passed in solitude, my best years spen...</td>\n",
       "      <td>MWS</td>\n",
       "      <td>0</td>\n",
       "      <td>0</td>\n",
       "    </tr>\n",
       "    <tr>\n",
       "      <th>id09674</th>\n",
       "      <td>The astronomer, perhaps, at this point, took r...</td>\n",
       "      <td>EAP</td>\n",
       "      <td>0</td>\n",
       "      <td>1</td>\n",
       "    </tr>\n",
       "    <tr>\n",
       "      <th>id13515</th>\n",
       "      <td>The surcingle hung in ribands from my body.</td>\n",
       "      <td>EAP</td>\n",
       "      <td>0</td>\n",
       "      <td>0</td>\n",
       "    </tr>\n",
       "    <tr>\n",
       "      <th>id19322</th>\n",
       "      <td>I knew that you could not say to yourself 'ste...</td>\n",
       "      <td>EAP</td>\n",
       "      <td>0</td>\n",
       "      <td>1</td>\n",
       "    </tr>\n",
       "    <tr>\n",
       "      <th>id00912</th>\n",
       "      <td>I confess that neither the structure of langua...</td>\n",
       "      <td>MWS</td>\n",
       "      <td>0</td>\n",
       "      <td>0</td>\n",
       "    </tr>\n",
       "  </tbody>\n",
       "</table>\n",
       "</div>"
      ],
      "text/plain": [
       "                                                      text author  question  \\\n",
       "id                                                                            \n",
       "id26305  This process, however, afforded me no means of...    EAP         0   \n",
       "id17569  It never once occurred to me that the fumbling...    HPL         0   \n",
       "id11008  In his left hand was a gold snuff box, from wh...    EAP         0   \n",
       "id27763  How lovely is spring As we looked from Windsor...    MWS         0   \n",
       "id12958  Finding nothing else, not even gold, the Super...    HPL         0   \n",
       "id22965  A youth passed in solitude, my best years spen...    MWS         0   \n",
       "id09674  The astronomer, perhaps, at this point, took r...    EAP         0   \n",
       "id13515        The surcingle hung in ribands from my body.    EAP         0   \n",
       "id19322  I knew that you could not say to yourself 'ste...    EAP         0   \n",
       "id00912  I confess that neither the structure of langua...    MWS         0   \n",
       "\n",
       "         semicol  \n",
       "id                \n",
       "id26305        2  \n",
       "id17569        0  \n",
       "id11008        0  \n",
       "id27763        0  \n",
       "id12958        1  \n",
       "id22965        0  \n",
       "id09674        1  \n",
       "id13515        0  \n",
       "id19322        1  \n",
       "id00912        0  "
      ]
     },
     "execution_count": 25,
     "metadata": {},
     "output_type": "execute_result"
    }
   ],
   "source": [
    "explore = train.copy()\n",
    "\n",
    "for name, char in {'question': '?', 'semicol': ';'}.items():\n",
    "    explore[name] = explore.text.apply(lambda s: s.count(char))\n",
    "\n",
    "explore[:10]"
   ]
  },
  {
   "cell_type": "code",
   "execution_count": 26,
   "metadata": {
    "collapsed": false
   },
   "outputs": [
    {
     "name": "stdout",
     "output_type": "stream",
     "text": [
      "Index(['text', 'author', 'question', 'semicol'], dtype='object')\n"
     ]
    }
   ],
   "source": [
    "print(explore.columns)\n",
    "features_names = list(set(explore.columns) - {'text', 'author'})"
   ]
  },
  {
   "cell_type": "code",
   "execution_count": 27,
   "metadata": {
    "collapsed": false
   },
   "outputs": [
    {
     "data": {
      "image/png": "[encoded data removed]",
      "text/plain": [
       "<matplotlib.figure.Figure at 0x7f63c71360b8>"
      ]
     },
     "metadata": {},
     "output_type": "display_data"
    },
    {
     "data": {
      "image/png": "[encoded data removed]",
      "text/plain": [
       "<matplotlib.figure.Figure at 0x7f63c70c8d30>"
      ]
     },
     "metadata": {},
     "output_type": "display_data"
    }
   ],
   "source": [
    "for feature in features_names:\n",
    "    plt.figure()\n",
    "    sns.violinplot(x=feature, y=\"author\", data=explore)\n",
    "    plt.title(feature);"
   ]
  },
  {
   "cell_type": "code",
   "execution_count": 28,
   "metadata": {
    "collapsed": false
   },
   "outputs": [
    {
     "data": {
      "text/plain": [
       "array([ 0.44623162,  0.44943304,  0.45011494])"
      ]
     },
     "execution_count": 28,
     "metadata": {},
     "output_type": "execute_result"
    }
   ],
   "source": [
    "from sklearn.svm import LinearSVC\n",
    "cross_val_score(LinearSVC(), explore[features_names], explore.author, cv=3, n_jobs=1)"
   ]
  },
  {
   "cell_type": "code",
   "execution_count": 29,
   "metadata": {
    "collapsed": false
   },
   "outputs": [
    {
     "data": {
      "text/plain": [
       "(19579, 2)"
      ]
     },
     "execution_count": 29,
     "metadata": {},
     "output_type": "execute_result"
    }
   ],
   "source": [
    "explore[features_names].shape"
   ]
  },
  {
   "cell_type": "code",
   "execution_count": 30,
   "metadata": {
    "collapsed": false
   },
   "outputs": [
    {
     "data": {
      "text/plain": [
       "(19579,)"
      ]
     },
     "execution_count": 30,
     "metadata": {},
     "output_type": "execute_result"
    }
   ],
   "source": [
    "explore.author.shape"
   ]
  },
  {
   "cell_type": "code",
   "execution_count": 31,
   "metadata": {
    "collapsed": false
   },
   "outputs": [
    {
     "name": "stdout",
     "output_type": "stream",
     "text": [
      "JoblibValueError\n",
      "___________________________________________________________________________\n",
      "Multiprocessing exception:\n",
      "...........................................................................\n",
      "/usr/lib/python3.6/runpy.py in _run_module_as_main(mod_name='ipykernel_launcher', alter_argv=1)\n",
      "    188         sys.exit(msg)\n",
      "    189     main_globals = sys.modules[\"__main__\"].__dict__\n",
      "    190     if alter_argv:\n",
      "    191         sys.argv[0] = mod_spec.origin\n",
      "    192     return _run_code(code, main_globals, None,\n",
      "--> 193                      \"__main__\", mod_spec)\n",
      "        mod_spec = ModuleSpec(name='ipykernel_launcher', loader=<_f...b/python3.6/site-packages/ipykernel_launcher.py')\n",
      "    194 \n",
      "    195 def run_module(mod_name, init_globals=None,\n",
      "    196                run_name=None, alter_sys=False):\n",
      "    197     \"\"\"Execute a module's code without importing it\n",
      "\n",
      "...........................................................................\n",
      "/usr/lib/python3.6/runpy.py in _run_code(code=<code object <module> at 0x7f6408de41e0, file \"/...3.6/site-packages/ipykernel_launcher.py\", line 5>, run_globals={'__annotations__': {}, '__builtins__': <module 'builtins' (built-in)>, '__cached__': '/home/bob/.local/lib/python3.6/site-packages/__pycache__/ipykernel_launcher.cpython-36.pyc', '__doc__': 'Entry point for launching an IPython kernel.\\n\\nTh...orts until\\nafter removing the cwd from sys.path.\\n', '__file__': '/home/bob/.local/lib/python3.6/site-packages/ipykernel_launcher.py', '__loader__': <_frozen_importlib_external.SourceFileLoader object>, '__name__': '__main__', '__package__': '', '__spec__': ModuleSpec(name='ipykernel_launcher', loader=<_f...b/python3.6/site-packages/ipykernel_launcher.py'), 'app': <module 'ipykernel.kernelapp' from '/home/bob/.l.../python3.6/site-packages/ipykernel/kernelapp.py'>, ...}, init_globals=None, mod_name='__main__', mod_spec=ModuleSpec(name='ipykernel_launcher', loader=<_f...b/python3.6/site-packages/ipykernel_launcher.py'), pkg_name='', script_name=None)\n",
      "     80                        __cached__ = cached,\n",
      "     81                        __doc__ = None,\n",
      "     82                        __loader__ = loader,\n",
      "     83                        __package__ = pkg_name,\n",
      "     84                        __spec__ = mod_spec)\n",
      "---> 85     exec(code, run_globals)\n",
      "        code = <code object <module> at 0x7f6408de41e0, file \"/...3.6/site-packages/ipykernel_launcher.py\", line 5>\n",
      "        run_globals = {'__annotations__': {}, '__builtins__': <module 'builtins' (built-in)>, '__cached__': '/home/bob/.local/lib/python3.6/site-packages/__pycache__/ipykernel_launcher.cpython-36.pyc', '__doc__': 'Entry point for launching an IPython kernel.\\n\\nTh...orts until\\nafter removing the cwd from sys.path.\\n', '__file__': '/home/bob/.local/lib/python3.6/site-packages/ipykernel_launcher.py', '__loader__': <_frozen_importlib_external.SourceFileLoader object>, '__name__': '__main__', '__package__': '', '__spec__': ModuleSpec(name='ipykernel_launcher', loader=<_f...b/python3.6/site-packages/ipykernel_launcher.py'), 'app': <module 'ipykernel.kernelapp' from '/home/bob/.l.../python3.6/site-packages/ipykernel/kernelapp.py'>, ...}\n",
      "     86     return run_globals\n",
      "     87 \n",
      "     88 def _run_module_code(code, init_globals=None,\n",
      "     89                     mod_name=None, mod_spec=None,\n",
      "\n",
      "...........................................................................\n",
      "/home/bob/.local/lib/python3.6/site-packages/ipykernel_launcher.py in <module>()\n",
      "     11     # This is added back by InteractiveShellApp.init_path()\n",
      "     12     if sys.path[0] == '':\n",
      "     13         del sys.path[0]\n",
      "     14 \n",
      "     15     from ipykernel import kernelapp as app\n",
      "---> 16     app.launch_new_instance()\n",
      "\n",
      "...........................................................................\n",
      "/home/bob/.local/lib/python3.6/site-packages/traitlets/config/application.py in launch_instance(cls=<class 'ipykernel.kernelapp.IPKernelApp'>, argv=None, **kwargs={})\n",
      "    653 \n",
      "    654         If a global instance already exists, this reinitializes and starts it\n",
      "    655         \"\"\"\n",
      "    656         app = cls.instance(**kwargs)\n",
      "    657         app.initialize(argv)\n",
      "--> 658         app.start()\n",
      "        app.start = <bound method IPKernelApp.start of <ipykernel.kernelapp.IPKernelApp object>>\n",
      "    659 \n",
      "    660 #-----------------------------------------------------------------------------\n",
      "    661 # utility functions, for convenience\n",
      "    662 #-----------------------------------------------------------------------------\n",
      "\n",
      "...........................................................................\n",
      "/home/bob/.local/lib/python3.6/site-packages/ipykernel/kernelapp.py in start(self=<ipykernel.kernelapp.IPKernelApp object>)\n",
      "    473         if self.poller is not None:\n",
      "    474             self.poller.start()\n",
      "    475         self.kernel.start()\n",
      "    476         self.io_loop = ioloop.IOLoop.current()\n",
      "    477         try:\n",
      "--> 478             self.io_loop.start()\n",
      "        self.io_loop.start = <bound method ZMQIOLoop.start of <zmq.eventloop.ioloop.ZMQIOLoop object>>\n",
      "    479         except KeyboardInterrupt:\n",
      "    480             pass\n",
      "    481 \n",
      "    482 launch_new_instance = IPKernelApp.launch_instance\n",
      "\n",
      "...........................................................................\n",
      "/home/bob/.local/lib/python3.6/site-packages/zmq/eventloop/ioloop.py in start(self=<zmq.eventloop.ioloop.ZMQIOLoop object>)\n",
      "    172             )\n",
      "    173         return loop\n",
      "    174     \n",
      "    175     def start(self):\n",
      "    176         try:\n",
      "--> 177             super(ZMQIOLoop, self).start()\n",
      "        self.start = <bound method ZMQIOLoop.start of <zmq.eventloop.ioloop.ZMQIOLoop object>>\n",
      "    178         except ZMQError as e:\n",
      "    179             if e.errno == ETERM:\n",
      "    180                 # quietly return on ETERM\n",
      "    181                 pass\n",
      "\n",
      "...........................................................................\n",
      "/home/bob/.local/lib/python3.6/site-packages/tornado/ioloop.py in start(self=<zmq.eventloop.ioloop.ZMQIOLoop object>)\n",
      "    883                 self._events.update(event_pairs)\n",
      "    884                 while self._events:\n",
      "    885                     fd, events = self._events.popitem()\n",
      "    886                     try:\n",
      "    887                         fd_obj, handler_func = self._handlers[fd]\n",
      "--> 888                         handler_func(fd_obj, events)\n",
      "        handler_func = <function wrap.<locals>.null_wrapper>\n",
      "        fd_obj = <zmq.sugar.socket.Socket object>\n",
      "        events = 5\n",
      "    889                     except (OSError, IOError) as e:\n",
      "    890                         if errno_from_exception(e) == errno.EPIPE:\n",
      "    891                             # Happens when the client closes the connection\n",
      "    892                             pass\n",
      "\n",
      "...........................................................................\n",
      "/home/bob/.local/lib/python3.6/site-packages/tornado/stack_context.py in null_wrapper(*args=(<zmq.sugar.socket.Socket object>, 5), **kwargs={})\n",
      "    272         # Fast path when there are no active contexts.\n",
      "    273         def null_wrapper(*args, **kwargs):\n",
      "    274             try:\n",
      "    275                 current_state = _state.contexts\n",
      "    276                 _state.contexts = cap_contexts[0]\n",
      "--> 277                 return fn(*args, **kwargs)\n",
      "        args = (<zmq.sugar.socket.Socket object>, 5)\n",
      "        kwargs = {}\n",
      "    278             finally:\n",
      "    279                 _state.contexts = current_state\n",
      "    280         null_wrapper._wrapped = True\n",
      "    281         return null_wrapper\n",
      "\n",
      "...........................................................................\n",
      "/home/bob/.local/lib/python3.6/site-packages/zmq/eventloop/zmqstream.py in _handle_events(self=<zmq.eventloop.zmqstream.ZMQStream object>, fd=<zmq.sugar.socket.Socket object>, events=5)\n",
      "    435             # dispatch events:\n",
      "    436             if events & IOLoop.ERROR:\n",
      "    437                 gen_log.error(\"got POLLERR event on ZMQStream, which doesn't make sense\")\n",
      "    438                 return\n",
      "    439             if events & IOLoop.READ:\n",
      "--> 440                 self._handle_recv()\n",
      "        self._handle_recv = <bound method ZMQStream._handle_recv of <zmq.eventloop.zmqstream.ZMQStream object>>\n",
      "    441                 if not self.socket:\n",
      "    442                     return\n",
      "    443             if events & IOLoop.WRITE:\n",
      "    444                 self._handle_send()\n",
      "\n",
      "...........................................................................\n",
      "/home/bob/.local/lib/python3.6/site-packages/zmq/eventloop/zmqstream.py in _handle_recv(self=<zmq.eventloop.zmqstream.ZMQStream object>)\n",
      "    467                 gen_log.error(\"RECV Error: %s\"%zmq.strerror(e.errno))\n",
      "    468         else:\n",
      "    469             if self._recv_callback:\n",
      "    470                 callback = self._recv_callback\n",
      "    471                 # self._recv_callback = None\n",
      "--> 472                 self._run_callback(callback, msg)\n",
      "        self._run_callback = <bound method ZMQStream._run_callback of <zmq.eventloop.zmqstream.ZMQStream object>>\n",
      "        callback = <function wrap.<locals>.null_wrapper>\n",
      "        msg = [<zmq.sugar.frame.Frame object>, <zmq.sugar.frame.Frame object>, <zmq.sugar.frame.Frame object>, <zmq.sugar.frame.Frame object>, <zmq.sugar.frame.Frame object>, <zmq.sugar.frame.Frame object>, <zmq.sugar.frame.Frame object>]\n",
      "    473                 \n",
      "    474         # self.update_state()\n",
      "    475         \n",
      "    476 \n",
      "\n",
      "...........................................................................\n",
      "/home/bob/.local/lib/python3.6/site-packages/zmq/eventloop/zmqstream.py in _run_callback(self=<zmq.eventloop.zmqstream.ZMQStream object>, callback=<function wrap.<locals>.null_wrapper>, *args=([<zmq.sugar.frame.Frame object>, <zmq.sugar.frame.Frame object>, <zmq.sugar.frame.Frame object>, <zmq.sugar.frame.Frame object>, <zmq.sugar.frame.Frame object>, <zmq.sugar.frame.Frame object>, <zmq.sugar.frame.Frame object>],), **kwargs={})\n",
      "    409         close our socket.\"\"\"\n",
      "    410         try:\n",
      "    411             # Use a NullContext to ensure that all StackContexts are run\n",
      "    412             # inside our blanket exception handler rather than outside.\n",
      "    413             with stack_context.NullContext():\n",
      "--> 414                 callback(*args, **kwargs)\n",
      "        callback = <function wrap.<locals>.null_wrapper>\n",
      "        args = ([<zmq.sugar.frame.Frame object>, <zmq.sugar.frame.Frame object>, <zmq.sugar.frame.Frame object>, <zmq.sugar.frame.Frame object>, <zmq.sugar.frame.Frame object>, <zmq.sugar.frame.Frame object>, <zmq.sugar.frame.Frame object>],)\n",
      "        kwargs = {}\n",
      "    415         except:\n",
      "    416             gen_log.error(\"Uncaught exception, closing connection.\",\n",
      "    417                           exc_info=True)\n",
      "    418             # Close the socket on an uncaught exception from a user callback\n",
      "\n",
      "...........................................................................\n",
      "/home/bob/.local/lib/python3.6/site-packages/tornado/stack_context.py in null_wrapper(*args=([<zmq.sugar.frame.Frame object>, <zmq.sugar.frame.Frame object>, <zmq.sugar.frame.Frame object>, <zmq.sugar.frame.Frame object>, <zmq.sugar.frame.Frame object>, <zmq.sugar.frame.Frame object>, <zmq.sugar.frame.Frame object>],), **kwargs={})\n",
      "    272         # Fast path when there are no active contexts.\n",
      "    273         def null_wrapper(*args, **kwargs):\n",
      "    274             try:\n",
      "    275                 current_state = _state.contexts\n",
      "    276                 _state.contexts = cap_contexts[0]\n",
      "--> 277                 return fn(*args, **kwargs)\n",
      "        args = ([<zmq.sugar.frame.Frame object>, <zmq.sugar.frame.Frame object>, <zmq.sugar.frame.Frame object>, <zmq.sugar.frame.Frame object>, <zmq.sugar.frame.Frame object>, <zmq.sugar.frame.Frame object>, <zmq.sugar.frame.Frame object>],)\n",
      "        kwargs = {}\n",
      "    278             finally:\n",
      "    279                 _state.contexts = current_state\n",
      "    280         null_wrapper._wrapped = True\n",
      "    281         return null_wrapper\n",
      "\n",
      "...........................................................................\n",
      "/home/bob/.local/lib/python3.6/site-packages/ipykernel/kernelbase.py in dispatcher(msg=[<zmq.sugar.frame.Frame object>, <zmq.sugar.frame.Frame object>, <zmq.sugar.frame.Frame object>, <zmq.sugar.frame.Frame object>, <zmq.sugar.frame.Frame object>, <zmq.sugar.frame.Frame object>, <zmq.sugar.frame.Frame object>])\n",
      "    276         if self.control_stream:\n",
      "    277             self.control_stream.on_recv(self.dispatch_control, copy=False)\n",
      "    278 \n",
      "    279         def make_dispatcher(stream):\n",
      "    280             def dispatcher(msg):\n",
      "--> 281                 return self.dispatch_shell(stream, msg)\n",
      "        msg = [<zmq.sugar.frame.Frame object>, <zmq.sugar.frame.Frame object>, <zmq.sugar.frame.Frame object>, <zmq.sugar.frame.Frame object>, <zmq.sugar.frame.Frame object>, <zmq.sugar.frame.Frame object>, <zmq.sugar.frame.Frame object>]\n",
      "    282             return dispatcher\n",
      "    283 \n",
      "    284         for s in self.shell_streams:\n",
      "    285             s.on_recv(make_dispatcher(s), copy=False)\n",
      "\n",
      "...........................................................................\n",
      "/home/bob/.local/lib/python3.6/site-packages/ipykernel/kernelbase.py in dispatch_shell(self=<ipykernel.ipkernel.IPythonKernel object>, stream=<zmq.eventloop.zmqstream.ZMQStream object>, msg={'buffers': [], 'content': {'allow_stdin': True, 'code': \"try:\\n    print('       score:', cross_val_score(..._log_loss'))\\nexcept ValueError as e:\\n    print(e)\", 'silent': False, 'stop_on_error': True, 'store_history': True, 'user_expressions': {}}, 'header': {'date': datetime.datetime(2018, 1, 2, 20, 57, 23, 170667, tzinfo=tzutc()), 'msg_id': 'A344DE3B9072487384C16EE9A53D86BC', 'msg_type': 'execute_request', 'session': '47C2C97D199C487C800B13AB2CE26836', 'username': 'username', 'version': '5.0'}, 'metadata': {}, 'msg_id': 'A344DE3B9072487384C16EE9A53D86BC', 'msg_type': 'execute_request', 'parent_header': {}})\n",
      "    227             self.log.warn(\"Unknown message type: %r\", msg_type)\n",
      "    228         else:\n",
      "    229             self.log.debug(\"%s: %s\", msg_type, msg)\n",
      "    230             self.pre_handler_hook()\n",
      "    231             try:\n",
      "--> 232                 handler(stream, idents, msg)\n",
      "        handler = <bound method Kernel.execute_request of <ipykernel.ipkernel.IPythonKernel object>>\n",
      "        stream = <zmq.eventloop.zmqstream.ZMQStream object>\n",
      "        idents = [b'47C2C97D199C487C800B13AB2CE26836']\n",
      "        msg = {'buffers': [], 'content': {'allow_stdin': True, 'code': \"try:\\n    print('       score:', cross_val_score(..._log_loss'))\\nexcept ValueError as e:\\n    print(e)\", 'silent': False, 'stop_on_error': True, 'store_history': True, 'user_expressions': {}}, 'header': {'date': datetime.datetime(2018, 1, 2, 20, 57, 23, 170667, tzinfo=tzutc()), 'msg_id': 'A344DE3B9072487384C16EE9A53D86BC', 'msg_type': 'execute_request', 'session': '47C2C97D199C487C800B13AB2CE26836', 'username': 'username', 'version': '5.0'}, 'metadata': {}, 'msg_id': 'A344DE3B9072487384C16EE9A53D86BC', 'msg_type': 'execute_request', 'parent_header': {}}\n",
      "    233             except Exception:\n",
      "    234                 self.log.error(\"Exception in message handler:\", exc_info=True)\n",
      "    235             finally:\n",
      "    236                 self.post_handler_hook()\n",
      "\n",
      "...........................................................................\n",
      "/home/bob/.local/lib/python3.6/site-packages/ipykernel/kernelbase.py in execute_request(self=<ipykernel.ipkernel.IPythonKernel object>, stream=<zmq.eventloop.zmqstream.ZMQStream object>, ident=[b'47C2C97D199C487C800B13AB2CE26836'], parent={'buffers': [], 'content': {'allow_stdin': True, 'code': \"try:\\n    print('       score:', cross_val_score(..._log_loss'))\\nexcept ValueError as e:\\n    print(e)\", 'silent': False, 'stop_on_error': True, 'store_history': True, 'user_expressions': {}}, 'header': {'date': datetime.datetime(2018, 1, 2, 20, 57, 23, 170667, tzinfo=tzutc()), 'msg_id': 'A344DE3B9072487384C16EE9A53D86BC', 'msg_type': 'execute_request', 'session': '47C2C97D199C487C800B13AB2CE26836', 'username': 'username', 'version': '5.0'}, 'metadata': {}, 'msg_id': 'A344DE3B9072487384C16EE9A53D86BC', 'msg_type': 'execute_request', 'parent_header': {}})\n",
      "    392         if not silent:\n",
      "    393             self.execution_count += 1\n",
      "    394             self._publish_execute_input(code, parent, self.execution_count)\n",
      "    395 \n",
      "    396         reply_content = self.do_execute(code, silent, store_history,\n",
      "--> 397                                         user_expressions, allow_stdin)\n",
      "        user_expressions = {}\n",
      "        allow_stdin = True\n",
      "    398 \n",
      "    399         # Flush output before sending the reply.\n",
      "    400         sys.stdout.flush()\n",
      "    401         sys.stderr.flush()\n",
      "\n",
      "...........................................................................\n",
      "/home/bob/.local/lib/python3.6/site-packages/ipykernel/ipkernel.py in do_execute(self=<ipykernel.ipkernel.IPythonKernel object>, code=\"try:\\n    print('       score:', cross_val_score(..._log_loss'))\\nexcept ValueError as e:\\n    print(e)\", silent=False, store_history=True, user_expressions={}, allow_stdin=True)\n",
      "    203 \n",
      "    204         self._forward_input(allow_stdin)\n",
      "    205 \n",
      "    206         reply_content = {}\n",
      "    207         try:\n",
      "--> 208             res = shell.run_cell(code, store_history=store_history, silent=silent)\n",
      "        res = undefined\n",
      "        shell.run_cell = <bound method ZMQInteractiveShell.run_cell of <ipykernel.zmqshell.ZMQInteractiveShell object>>\n",
      "        code = \"try:\\n    print('       score:', cross_val_score(..._log_loss'))\\nexcept ValueError as e:\\n    print(e)\"\n",
      "        store_history = True\n",
      "        silent = False\n",
      "    209         finally:\n",
      "    210             self._restore_input()\n",
      "    211 \n",
      "    212         if res.error_before_exec is not None:\n",
      "\n",
      "...........................................................................\n",
      "/home/bob/.local/lib/python3.6/site-packages/ipykernel/zmqshell.py in run_cell(self=<ipykernel.zmqshell.ZMQInteractiveShell object>, *args=(\"try:\\n    print('       score:', cross_val_score(..._log_loss'))\\nexcept ValueError as e:\\n    print(e)\",), **kwargs={'silent': False, 'store_history': True})\n",
      "    528             )\n",
      "    529         self.payload_manager.write_payload(payload)\n",
      "    530 \n",
      "    531     def run_cell(self, *args, **kwargs):\n",
      "    532         self._last_traceback = None\n",
      "--> 533         return super(ZMQInteractiveShell, self).run_cell(*args, **kwargs)\n",
      "        self.run_cell = <bound method ZMQInteractiveShell.run_cell of <ipykernel.zmqshell.ZMQInteractiveShell object>>\n",
      "        args = (\"try:\\n    print('       score:', cross_val_score(..._log_loss'))\\nexcept ValueError as e:\\n    print(e)\",)\n",
      "        kwargs = {'silent': False, 'store_history': True}\n",
      "    534 \n",
      "    535     def _showtraceback(self, etype, evalue, stb):\n",
      "    536         # try to preserve ordering of tracebacks and print statements\n",
      "    537         sys.stdout.flush()\n",
      "\n",
      "...........................................................................\n",
      "/home/bob/.local/lib/python3.6/site-packages/IPython/core/interactiveshell.py in run_cell(self=<ipykernel.zmqshell.ZMQInteractiveShell object>, raw_cell=\"try:\\n    print('       score:', cross_val_score(..._log_loss'))\\nexcept ValueError as e:\\n    print(e)\", store_history=True, silent=False, shell_futures=True)\n",
      "   2723                 self.displayhook.exec_result = result\n",
      "   2724 \n",
      "   2725                 # Execute the user code\n",
      "   2726                 interactivity = \"none\" if silent else self.ast_node_interactivity\n",
      "   2727                 has_raised = self.run_ast_nodes(code_ast.body, cell_name,\n",
      "-> 2728                    interactivity=interactivity, compiler=compiler, result=result)\n",
      "        interactivity = 'last_expr'\n",
      "        compiler = <IPython.core.compilerop.CachingCompiler object>\n",
      "   2729                 \n",
      "   2730                 self.last_execution_succeeded = not has_raised\n",
      "   2731                 self.last_execution_result = result\n",
      "   2732 \n",
      "\n",
      "...........................................................................\n",
      "/home/bob/.local/lib/python3.6/site-packages/IPython/core/interactiveshell.py in run_ast_nodes(self=<ipykernel.zmqshell.ZMQInteractiveShell object>, nodelist=[<_ast.Try object>], cell_name='<ipython-input-31-d4edb467f471>', interactivity='none', compiler=<IPython.core.compilerop.CachingCompiler object>, result=<ExecutionResult object at 7f63c7075470, executi..._before_exec=None error_in_exec=None result=None>)\n",
      "   2845 \n",
      "   2846         try:\n",
      "   2847             for i, node in enumerate(to_run_exec):\n",
      "   2848                 mod = ast.Module([node])\n",
      "   2849                 code = compiler(mod, cell_name, \"exec\")\n",
      "-> 2850                 if self.run_code(code, result):\n",
      "        self.run_code = <bound method InteractiveShell.run_code of <ipykernel.zmqshell.ZMQInteractiveShell object>>\n",
      "        code = <code object <module> at 0x7f63c71b7f60, file \"<ipython-input-31-d4edb467f471>\", line 1>\n",
      "        result = <ExecutionResult object at 7f63c7075470, executi..._before_exec=None error_in_exec=None result=None>\n",
      "   2851                     return True\n",
      "   2852 \n",
      "   2853             for i, node in enumerate(to_run_interactive):\n",
      "   2854                 mod = ast.Interactive([node])\n",
      "\n",
      "...........................................................................\n",
      "/home/bob/.local/lib/python3.6/site-packages/IPython/core/interactiveshell.py in run_code(self=<ipykernel.zmqshell.ZMQInteractiveShell object>, code_obj=<code object <module> at 0x7f63c71b7f60, file \"<ipython-input-31-d4edb467f471>\", line 1>, result=<ExecutionResult object at 7f63c7075470, executi..._before_exec=None error_in_exec=None result=None>)\n",
      "   2905         outflag = True  # happens in more places, so it's easier as default\n",
      "   2906         try:\n",
      "   2907             try:\n",
      "   2908                 self.hooks.pre_run_code_hook()\n",
      "   2909                 #rprint('Running code', repr(code_obj)) # dbg\n",
      "-> 2910                 exec(code_obj, self.user_global_ns, self.user_ns)\n",
      "        code_obj = <code object <module> at 0x7f63c71b7f60, file \"<ipython-input-31-d4edb467f471>\", line 1>\n",
      "        self.user_global_ns = {'CountVectorizer': <class 'sklearn.feature_extraction.text.CountVectorizer'>, 'In': ['', \"import numpy as np\\nimport matplotlib.pyplot as p...lib', 'inline')\\n\\npd.options.display.max_rows = 10\", '# Dataset\\n\\ntrain = pd.read_csv(\"data/spooky/trai...pe)\\nprint(set(train.columns) - set(test.columns))', 'train.head(5)', 'from sklearn.pipeline import Pipeline\\nfrom sklea...om sklearn.model_selection import cross_val_score', \"pipeline = Pipeline([\\n    ('features', CountVect..., \\n                      scoring='neg_log_loss'))\", 'from sklearn.exceptions import NotFittedError\\n\\nc...ttributeError, NotFittedError) as e:\\n    print(e)', 'pipeline.fit(train.text, train.author)\\ncount_vec...s[0][1]\\n# count_vectorizer._validate_vocabulary()', 'list(count_vectorizer.vocabulary_.items())[:10]', \"pd.set_option('display.float_format', '{:.2f}'.f...e_))\\nprint('observed:', train.author.values[:10])\", \"import itertools\\nfrom sklearn.metrics import con...l('True label')\\n    plt.xlabel('Predicted label')\", 'from sklearn.model_selection import cross_val_pr...in.text, train.author, cv=3, n_jobs=3)\\nprediction', 'authors = pipeline.classes_\\nplot_confusion_matrix(train.author, prediction, classes=authors)', 'authors', 'single_ = train.text.iloc[0]\\nsingle_', 'pipeline.predict_proba([single_])', 'single_probas = [ [z] for z in pipeline.predict_proba([single_])[0]]\\nsingle_probas', '[train.author.iloc[0]]', 'log_loss([1], [[0.5, 0.3333333, 0.0416666]], labels=[1, 0, 3])', \"log_loss(y_true=[['EAP']], y_pred=[[0.9958736483...7051345]],\\n         labels=['EAP', 'HPL', 'MWS'])\", ...], 'LinearSVC': <class 'sklearn.svm.classes.LinearSVC'>, 'LogisticRegression': <class 'sklearn.linear_model.logistic.LogisticRegression'>, 'NotFittedError': <class 'sklearn.exceptions.NotFittedError'>, 'Out': {3:                                                 ... nothing else, not even gold, the Super...    HPL, 8: [('this', 22175), ('process', 17139), ('however', 10784), ('afforded', 455), ('me', 13678), ('no', 14817), ('means', 13696), ('of', 15145), ('ascertaining', 1300), ('the', 22085)], 11: array(['EAP', 'EAP', 'EAP', ..., 'EAP', 'EAP', 'HPL'], dtype=object), 13: array(['EAP', 'HPL', 'MWS'], dtype=object), 14: 'This process, however, afforded me no means of a...f the fact; so perfectly uniform seemed the wall.', 15: array([[  9.95873648e-01,   3.93471446e-03,   1.91637189e-04]]), 16: [[0.99587364835336278], [0.0039347144572666644], [0.00019163718937051345]], 17: ['EAP'], 18: 0.96508088175787132, 19: 0.004134888527801966, ...}, 'Pipeline': <class 'sklearn.pipeline.Pipeline'>, '_': (19579,), '_11': array(['EAP', 'EAP', 'EAP', ..., 'EAP', 'EAP', 'HPL'], dtype=object), '_13': array(['EAP', 'HPL', 'MWS'], dtype=object), ...}\n",
      "        self.user_ns = {'CountVectorizer': <class 'sklearn.feature_extraction.text.CountVectorizer'>, 'In': ['', \"import numpy as np\\nimport matplotlib.pyplot as p...lib', 'inline')\\n\\npd.options.display.max_rows = 10\", '# Dataset\\n\\ntrain = pd.read_csv(\"data/spooky/trai...pe)\\nprint(set(train.columns) - set(test.columns))', 'train.head(5)', 'from sklearn.pipeline import Pipeline\\nfrom sklea...om sklearn.model_selection import cross_val_score', \"pipeline = Pipeline([\\n    ('features', CountVect..., \\n                      scoring='neg_log_loss'))\", 'from sklearn.exceptions import NotFittedError\\n\\nc...ttributeError, NotFittedError) as e:\\n    print(e)', 'pipeline.fit(train.text, train.author)\\ncount_vec...s[0][1]\\n# count_vectorizer._validate_vocabulary()', 'list(count_vectorizer.vocabulary_.items())[:10]', \"pd.set_option('display.float_format', '{:.2f}'.f...e_))\\nprint('observed:', train.author.values[:10])\", \"import itertools\\nfrom sklearn.metrics import con...l('True label')\\n    plt.xlabel('Predicted label')\", 'from sklearn.model_selection import cross_val_pr...in.text, train.author, cv=3, n_jobs=3)\\nprediction', 'authors = pipeline.classes_\\nplot_confusion_matrix(train.author, prediction, classes=authors)', 'authors', 'single_ = train.text.iloc[0]\\nsingle_', 'pipeline.predict_proba([single_])', 'single_probas = [ [z] for z in pipeline.predict_proba([single_])[0]]\\nsingle_probas', '[train.author.iloc[0]]', 'log_loss([1], [[0.5, 0.3333333, 0.0416666]], labels=[1, 0, 3])', \"log_loss(y_true=[['EAP']], y_pred=[[0.9958736483...7051345]],\\n         labels=['EAP', 'HPL', 'MWS'])\", ...], 'LinearSVC': <class 'sklearn.svm.classes.LinearSVC'>, 'LogisticRegression': <class 'sklearn.linear_model.logistic.LogisticRegression'>, 'NotFittedError': <class 'sklearn.exceptions.NotFittedError'>, 'Out': {3:                                                 ... nothing else, not even gold, the Super...    HPL, 8: [('this', 22175), ('process', 17139), ('however', 10784), ('afforded', 455), ('me', 13678), ('no', 14817), ('means', 13696), ('of', 15145), ('ascertaining', 1300), ('the', 22085)], 11: array(['EAP', 'EAP', 'EAP', ..., 'EAP', 'EAP', 'HPL'], dtype=object), 13: array(['EAP', 'HPL', 'MWS'], dtype=object), 14: 'This process, however, afforded me no means of a...f the fact; so perfectly uniform seemed the wall.', 15: array([[  9.95873648e-01,   3.93471446e-03,   1.91637189e-04]]), 16: [[0.99587364835336278], [0.0039347144572666644], [0.00019163718937051345]], 17: ['EAP'], 18: 0.96508088175787132, 19: 0.004134888527801966, ...}, 'Pipeline': <class 'sklearn.pipeline.Pipeline'>, '_': (19579,), '_11': array(['EAP', 'EAP', 'EAP', ..., 'EAP', 'EAP', 'HPL'], dtype=object), '_13': array(['EAP', 'HPL', 'MWS'], dtype=object), ...}\n",
      "   2911             finally:\n",
      "   2912                 # Reset our crash handler in place\n",
      "   2913                 sys.excepthook = old_excepthook\n",
      "   2914         except SystemExit as e:\n",
      "\n",
      "...........................................................................\n",
      "/home/bob/gits/fmi-ml-hw/<ipython-input-31-d4edb467f471> in <module>()\n",
      "      1 try:\n",
      "----> 2     print('       score:', cross_val_score(pipeline, explore[features_names], explore.author, cv=3, n_jobs=3))\n",
      "      3 #     print('neg_log_loss:', cross_val_score(pipeline, explore[features_names], explore.author, cv=3, n_jobs=3, \n",
      "      4 #                           scoring='neg_log_loss'))\n",
      "      5 except ValueError as e:\n",
      "      6     print(e)\n",
      "\n",
      "...........................................................................\n",
      "/home/bob/.local/lib/python3.6/site-packages/sklearn/model_selection/_validation.py in cross_val_score(estimator=Pipeline(memory=None,\n",
      "     steps=[('features', C...0.0001,\n",
      "          verbose=0, warm_start=False))]), X=         semicol  question\n",
      "id                   ...0393        0         0\n",
      "\n",
      "[19579 rows x 2 columns], y=id\n",
      "id26305    EAP\n",
      "id17569    HPL\n",
      "id11008    EAP\n",
      "...   HPL\n",
      "Name: author, Length: 19579, dtype: object, groups=None, scoring=None, cv=3, n_jobs=3, verbose=0, fit_params=None, pre_dispatch='2*n_jobs')\n",
      "    337     cv_results = cross_validate(estimator=estimator, X=X, y=y, groups=groups,\n",
      "    338                                 scoring={'score': scorer}, cv=cv,\n",
      "    339                                 return_train_score=False,\n",
      "    340                                 n_jobs=n_jobs, verbose=verbose,\n",
      "    341                                 fit_params=fit_params,\n",
      "--> 342                                 pre_dispatch=pre_dispatch)\n",
      "        pre_dispatch = '2*n_jobs'\n",
      "    343     return cv_results['test_score']\n",
      "    344 \n",
      "    345 \n",
      "    346 def _fit_and_score(estimator, X, y, scorer, train, test, verbose,\n",
      "\n",
      "...........................................................................\n",
      "/home/bob/.local/lib/python3.6/site-packages/sklearn/model_selection/_validation.py in cross_validate(estimator=Pipeline(memory=None,\n",
      "     steps=[('features', C...0.0001,\n",
      "          verbose=0, warm_start=False))]), X=         semicol  question\n",
      "id                   ...0393        0         0\n",
      "\n",
      "[19579 rows x 2 columns], y=id\n",
      "id26305    EAP\n",
      "id17569    HPL\n",
      "id11008    EAP\n",
      "...   HPL\n",
      "Name: author, Length: 19579, dtype: object, groups=None, scoring={'score': <function _passthrough_scorer>}, cv=StratifiedKFold(n_splits=3, random_state=None, shuffle=False), n_jobs=3, verbose=0, fit_params=None, pre_dispatch='2*n_jobs', return_train_score=False)\n",
      "    201     scores = parallel(\n",
      "    202         delayed(_fit_and_score)(\n",
      "    203             clone(estimator), X, y, scorers, train, test, verbose, None,\n",
      "    204             fit_params, return_train_score=return_train_score,\n",
      "    205             return_times=True)\n",
      "--> 206         for train, test in cv.split(X, y, groups))\n",
      "        cv.split = <bound method StratifiedKFold.split of Stratifie...ld(n_splits=3, random_state=None, shuffle=False)>\n",
      "        X =          semicol  question\n",
      "id                   ...0393        0         0\n",
      "\n",
      "[19579 rows x 2 columns]\n",
      "        y = id\n",
      "id26305    EAP\n",
      "id17569    HPL\n",
      "id11008    EAP\n",
      "...   HPL\n",
      "Name: author, Length: 19579, dtype: object\n",
      "        groups = None\n",
      "    207 \n",
      "    208     if return_train_score:\n",
      "    209         train_scores, test_scores, fit_times, score_times = zip(*scores)\n",
      "    210         train_scores = _aggregate_score_dicts(train_scores)\n",
      "\n",
      "...........................................................................\n",
      "/home/bob/.local/lib/python3.6/site-packages/sklearn/externals/joblib/parallel.py in __call__(self=Parallel(n_jobs=3), iterable=<generator object cross_validate.<locals>.<genexpr>>)\n",
      "    784             if pre_dispatch == \"all\" or n_jobs == 1:\n",
      "    785                 # The iterable was consumed all at once by the above for loop.\n",
      "    786                 # No need to wait for async callbacks to trigger to\n",
      "    787                 # consumption.\n",
      "    788                 self._iterating = False\n",
      "--> 789             self.retrieve()\n",
      "        self.retrieve = <bound method Parallel.retrieve of Parallel(n_jobs=3)>\n",
      "    790             # Make sure that we get a last message telling us we are done\n",
      "    791             elapsed_time = time.time() - self._start_time\n",
      "    792             self._print('Done %3i out of %3i | elapsed: %s finished',\n",
      "    793                         (len(self._output), len(self._output),\n",
      "\n",
      "---------------------------------------------------------------------------\n",
      "Sub-process traceback:\n",
      "---------------------------------------------------------------------------\n",
      "ValueError                                         Tue Jan  2 12:57:50 2018\n",
      "PID: 37206                                   Python 3.6.3: /usr/bin/python3\n",
      "...........................................................................\n",
      "/home/bob/.local/lib/python3.6/site-packages/sklearn/externals/joblib/parallel.py in __call__(self=<sklearn.externals.joblib.parallel.BatchedCalls object>)\n",
      "    126     def __init__(self, iterator_slice):\n",
      "    127         self.items = list(iterator_slice)\n",
      "    128         self._size = len(self.items)\n",
      "    129 \n",
      "    130     def __call__(self):\n",
      "--> 131         return [func(*args, **kwargs) for func, args, kwargs in self.items]\n",
      "        self.items = [(<function _fit_and_score>, (Pipeline(memory=None,\n",
      "     steps=[('features', C...0.0001,\n",
      "          verbose=0, warm_start=False))]),          semicol  question\n",
      "id                   ...0393        0         0\n",
      "\n",
      "[19579 rows x 2 columns], id\n",
      "id26305    EAP\n",
      "id17569    HPL\n",
      "id11008    EAP\n",
      "...   HPL\n",
      "Name: author, Length: 19579, dtype: object, {'score': <function _passthrough_scorer>}, array([ 6475,  6476,  6478, ..., 19576, 19577, 19578]), array([   0,    1,    2, ..., 6604, 6605, 6606]), 0, None, None), {'return_times': True, 'return_train_score': False})]\n",
      "    132 \n",
      "    133     def __len__(self):\n",
      "    134         return self._size\n",
      "    135 \n",
      "\n",
      "...........................................................................\n",
      "/home/bob/.local/lib/python3.6/site-packages/sklearn/externals/joblib/parallel.py in <listcomp>(.0=<list_iterator object>)\n",
      "    126     def __init__(self, iterator_slice):\n",
      "    127         self.items = list(iterator_slice)\n",
      "    128         self._size = len(self.items)\n",
      "    129 \n",
      "    130     def __call__(self):\n",
      "--> 131         return [func(*args, **kwargs) for func, args, kwargs in self.items]\n",
      "        func = <function _fit_and_score>\n",
      "        args = (Pipeline(memory=None,\n",
      "     steps=[('features', C...0.0001,\n",
      "          verbose=0, warm_start=False))]),          semicol  question\n",
      "id                   ...0393        0         0\n",
      "\n",
      "[19579 rows x 2 columns], id\n",
      "id26305    EAP\n",
      "id17569    HPL\n",
      "id11008    EAP\n",
      "...   HPL\n",
      "Name: author, Length: 19579, dtype: object, {'score': <function _passthrough_scorer>}, array([ 6475,  6476,  6478, ..., 19576, 19577, 19578]), array([   0,    1,    2, ..., 6604, 6605, 6606]), 0, None, None)\n",
      "        kwargs = {'return_times': True, 'return_train_score': False}\n",
      "    132 \n",
      "    133     def __len__(self):\n",
      "    134         return self._size\n",
      "    135 \n",
      "\n",
      "...........................................................................\n",
      "/home/bob/.local/lib/python3.6/site-packages/sklearn/model_selection/_validation.py in _fit_and_score(estimator=Pipeline(memory=None,\n",
      "     steps=[('features', C...0.0001,\n",
      "          verbose=0, warm_start=False))]), X=         semicol  question\n",
      "id                   ...0393        0         0\n",
      "\n",
      "[19579 rows x 2 columns], y=id\n",
      "id26305    EAP\n",
      "id17569    HPL\n",
      "id11008    EAP\n",
      "...   HPL\n",
      "Name: author, Length: 19579, dtype: object, scorer={'score': <function _passthrough_scorer>}, train=array([ 6475,  6476,  6478, ..., 19576, 19577, 19578]), test=array([   0,    1,    2, ..., 6604, 6605, 6606]), verbose=0, parameters=None, fit_params={}, return_train_score=False, return_parameters=False, return_n_test_samples=False, return_times=True, error_score='raise')\n",
      "    453 \n",
      "    454     try:\n",
      "    455         if y_train is None:\n",
      "    456             estimator.fit(X_train, **fit_params)\n",
      "    457         else:\n",
      "--> 458             estimator.fit(X_train, y_train, **fit_params)\n",
      "        estimator.fit = <bound method Pipeline.fit of Pipeline(memory=No....0001,\n",
      "          verbose=0, warm_start=False))])>\n",
      "        X_train =          semicol  question\n",
      "id                   ...0393        0         0\n",
      "\n",
      "[13051 rows x 2 columns]\n",
      "        y_train = id\n",
      "id15739    EAP\n",
      "id19588    EAP\n",
      "id11059    EAP\n",
      "...   HPL\n",
      "Name: author, Length: 13051, dtype: object\n",
      "        fit_params = {}\n",
      "    459 \n",
      "    460     except Exception as e:\n",
      "    461         # Note fit time as time until error\n",
      "    462         fit_time = time.time() - start_time\n",
      "\n",
      "...........................................................................\n",
      "/home/bob/.local/lib/python3.6/site-packages/sklearn/pipeline.py in fit(self=Pipeline(memory=None,\n",
      "     steps=[('features', C...0.0001,\n",
      "          verbose=0, warm_start=False))]), X=         semicol  question\n",
      "id                   ...0393        0         0\n",
      "\n",
      "[13051 rows x 2 columns], y=id\n",
      "id15739    EAP\n",
      "id19588    EAP\n",
      "id11059    EAP\n",
      "...   HPL\n",
      "Name: author, Length: 13051, dtype: object, **fit_params={})\n",
      "    245         self : Pipeline\n",
      "    246             This estimator\n",
      "    247         \"\"\"\n",
      "    248         Xt, fit_params = self._fit(X, y, **fit_params)\n",
      "    249         if self._final_estimator is not None:\n",
      "--> 250             self._final_estimator.fit(Xt, y, **fit_params)\n",
      "        self._final_estimator.fit = <bound method LogisticRegression.fit of Logistic...l=0.0001,\n",
      "          verbose=0, warm_start=False)>\n",
      "        Xt = <2x2 sparse matrix of type '<class 'numpy.int64'... stored elements in Compressed Sparse Row format>\n",
      "        y = id\n",
      "id15739    EAP\n",
      "id19588    EAP\n",
      "id11059    EAP\n",
      "...   HPL\n",
      "Name: author, Length: 13051, dtype: object\n",
      "        fit_params = {}\n",
      "    251         return self\n",
      "    252 \n",
      "    253     def fit_transform(self, X, y=None, **fit_params):\n",
      "    254         \"\"\"Fit the model and transform with the final estimator\n",
      "\n",
      "...........................................................................\n",
      "/home/bob/.local/lib/python3.6/site-packages/sklearn/linear_model/logistic.py in fit(self=LogisticRegression(C=1.0, class_weight=None, dua...ol=0.0001,\n",
      "          verbose=0, warm_start=False), X=<2x2 sparse matrix of type '<class 'numpy.int64'... stored elements in Compressed Sparse Row format>, y=id\n",
      "id15739    EAP\n",
      "id19588    EAP\n",
      "id11059    EAP\n",
      "...   HPL\n",
      "Name: author, Length: 13051, dtype: object, sample_weight=None)\n",
      "   1211             _dtype = [np.float64, np.float32]\n",
      "   1212         else:\n",
      "   1213             _dtype = np.float64\n",
      "   1214 \n",
      "   1215         X, y = check_X_y(X, y, accept_sparse='csr', dtype=_dtype,\n",
      "-> 1216                          order=\"C\")\n",
      "   1217         check_classification_targets(y)\n",
      "   1218         self.classes_ = np.unique(y)\n",
      "   1219         n_samples, n_features = X.shape\n",
      "   1220 \n",
      "\n",
      "...........................................................................\n",
      "/home/bob/.local/lib/python3.6/site-packages/sklearn/utils/validation.py in check_X_y(X=<2x2 sparse matrix of type '<class 'numpy.float6... stored elements in Compressed Sparse Row format>, y=array(['EAP', 'EAP', 'EAP', ..., 'EAP', 'EAP', 'HPL'], dtype=object), accept_sparse='csr', dtype=<class 'numpy.float64'>, order='C', copy=False, force_all_finite=True, ensure_2d=True, allow_nd=False, multi_output=False, ensure_min_samples=1, ensure_min_features=1, y_numeric=False, warn_on_dtype=False, estimator=None)\n",
      "    578         y = column_or_1d(y, warn=True)\n",
      "    579         _assert_all_finite(y)\n",
      "    580     if y_numeric and y.dtype.kind == 'O':\n",
      "    581         y = y.astype(np.float64)\n",
      "    582 \n",
      "--> 583     check_consistent_length(X, y)\n",
      "        X = <2x2 sparse matrix of type '<class 'numpy.float6... stored elements in Compressed Sparse Row format>\n",
      "        y = array(['EAP', 'EAP', 'EAP', ..., 'EAP', 'EAP', 'HPL'], dtype=object)\n",
      "    584 \n",
      "    585     return X, y\n",
      "    586 \n",
      "    587 \n",
      "\n",
      "...........................................................................\n",
      "/home/bob/.local/lib/python3.6/site-packages/sklearn/utils/validation.py in check_consistent_length(*arrays=(<2x2 sparse matrix of type '<class 'numpy.float6... stored elements in Compressed Sparse Row format>, array(['EAP', 'EAP', 'EAP', ..., 'EAP', 'EAP', 'HPL'], dtype=object)))\n",
      "    199 \n",
      "    200     lengths = [_num_samples(X) for X in arrays if X is not None]\n",
      "    201     uniques = np.unique(lengths)\n",
      "    202     if len(uniques) > 1:\n",
      "    203         raise ValueError(\"Found input variables with inconsistent numbers of\"\n",
      "--> 204                          \" samples: %r\" % [int(l) for l in lengths])\n",
      "        lengths = [2, 13051]\n",
      "    205 \n",
      "    206 \n",
      "    207 def indexable(*iterables):\n",
      "    208     \"\"\"Make arrays indexable for cross-validation.\n",
      "\n",
      "ValueError: Found input variables with inconsistent numbers of samples: [2, 13051]\n",
      "___________________________________________________________________________\n"
     ]
    }
   ],
   "source": [
    "try:\n",
    "    print('       score:', cross_val_score(pipeline, explore[features_names], explore.author, cv=3, n_jobs=3))\n",
    "#     print('neg_log_loss:', cross_val_score(pipeline, explore[features_names], explore.author, cv=3, n_jobs=3, \n",
    "#                           scoring='neg_log_loss'))\n",
    "except ValueError as e:\n",
    "    print(e)"
   ]
  },
  {
   "cell_type": "raw",
   "metadata": {},
   "source": [
    "ОК - има 2 грешки за обяснение:\n",
    "* като се ползва LinearSVC() се прави без токенизация, затова резултатите са много по слаби\n",
    "* кода в `try` се чупи защото Pipeline започва с CountVectorizer, който очаква list of strings, а получава list of lists\n",
    "\n",
    "Или трябва да обработя токенизацията извън Pipeline, или да зарежа допълнителните фичъри."
   ]
  },
  {
   "cell_type": "code",
   "execution_count": 32,
   "metadata": {
    "collapsed": false
   },
   "outputs": [
    {
     "ename": "NameError",
     "evalue": "name 'transformed' is not defined",
     "output_type": "error",
     "traceback": [
      "\u001b[0;31m---------------------------------------------------------------------------\u001b[0m",
      "\u001b[0;31mNameError\u001b[0m                                 Traceback (most recent call last)",
      "\u001b[0;32m<ipython-input-32-28e7dd34bc0d>\u001b[0m in \u001b[0;36m<module>\u001b[0;34m()\u001b[0m\n\u001b[1;32m      1\u001b[0m \u001b[0;32mfor\u001b[0m \u001b[0mchar\u001b[0m \u001b[0;32min\u001b[0m \u001b[0mlist\u001b[0m\u001b[0;34m(\u001b[0m\u001b[0;34m'?!;'\u001b[0m\u001b[0;34m)\u001b[0m\u001b[0;34m:\u001b[0m\u001b[0;34m\u001b[0m\u001b[0m\n\u001b[0;32m----> 2\u001b[0;31m     \u001b[0mtransformed\u001b[0m\u001b[0;34m[\u001b[0m\u001b[0mchar\u001b[0m\u001b[0;34m]\u001b[0m \u001b[0;34m=\u001b[0m \u001b[0mtrain\u001b[0m\u001b[0;34m.\u001b[0m\u001b[0mtext\u001b[0m\u001b[0;34m.\u001b[0m\u001b[0mapply\u001b[0m\u001b[0;34m(\u001b[0m\u001b[0;32mlambda\u001b[0m \u001b[0ms\u001b[0m\u001b[0;34m:\u001b[0m \u001b[0ms\u001b[0m\u001b[0;34m.\u001b[0m\u001b[0mcount\u001b[0m\u001b[0;34m(\u001b[0m\u001b[0mchar\u001b[0m\u001b[0;34m)\u001b[0m\u001b[0;34m)\u001b[0m\u001b[0;34m\u001b[0m\u001b[0m\n\u001b[0m",
      "\u001b[0;31mNameError\u001b[0m: name 'transformed' is not defined"
     ]
    }
   ],
   "source": [
    "for char in list('?!;'):\n",
    "    transformed[char] = train.text.apply(lambda s: s.count(char))"
   ]
  },
  {
   "cell_type": "code",
   "execution_count": null,
   "metadata": {
    "collapsed": false
   },
   "outputs": [],
   "source": [
    "transformed"
   ]
  },
  {
   "cell_type": "code",
   "execution_count": null,
   "metadata": {
    "collapsed": false
   },
   "outputs": [],
   "source": [
    "# lr = LogisticRegression().fit(train[['text', '?', '!', ';']], train.author)"
   ]
  }
 ],
 "metadata": {
  "kernelspec": {
   "display_name": "Python 3",
   "language": "python",
   "name": "python3"
  },
  "language_info": {
   "codemirror_mode": {
    "name": "ipython",
    "version": 3
   },
   "file_extension": ".py",
   "mimetype": "text/x-python",
   "name": "python",
   "nbconvert_exporter": "python",
   "pygments_lexer": "ipython3",
   "version": "3.6.3"
  }
 },
 "nbformat": 4,
 "nbformat_minor": 2
}
